{
 "cells": [
  {
   "cell_type": "markdown",
   "metadata": {},
   "source": [
    "# Simple example with only temporary price impact"
   ]
  },
  {
   "cell_type": "code",
   "execution_count": 1,
   "metadata": {},
   "outputs": [
    {
     "name": "stderr",
     "output_type": "stream",
     "text": [
      "Using TensorFlow backend.\n"
     ]
    }
   ],
   "source": [
    "\n",
    "import numpy as np\n",
    "import tensorflow as tf\n",
    "import matplotlib.pyplot as plt\n",
    "from numba import vectorize\n",
    "import os\n",
    "\n",
    "\n",
    "from tensorflow.keras.models import Model\n",
    "from tensorflow.keras.layers import Input\n",
    "from tensorflow.keras.layers import Dense, Dropout\n",
    "from keras import backend as K\n",
    "tf.reset_default_graph()\n",
    "os.environ[\"CUDA_VISIBLE_DEVICES\"] = \"0\"\n",
    "K.clear_session()\n",
    "\n"
   ]
  },
  {
   "cell_type": "code",
   "execution_count": 2,
   "metadata": {},
   "outputs": [],
   "source": [
    "N = 100 # time steps\n",
    "T = 1. # time horizon\n",
    "sigma = 0.2 # volatility\n",
    "alpha = 0.5 # temporary price impact exponent\n",
    "dt = T/N\n",
    "num_samples = 100000\n",
    "num_shares = 1.\n",
    "mismatch_penalty = 1000.\n",
    "inventory_param = 10 # inventory penalty\n",
    "num_epochs = 5\n",
    "\n",
    "def power_impact_function(alpha):\n",
    "    @vectorize(['float32(float32)'], target='cpu')\n",
    "    def f(x):\n",
    "        return x**alpha\n",
    "    return f\n",
    "\n"
   ]
  },
  {
   "cell_type": "code",
   "execution_count": null,
   "metadata": {},
   "outputs": [],
   "source": []
  },
  {
   "cell_type": "markdown",
   "metadata": {},
   "source": [
    "## Parameters for the neural network"
   ]
  },
  {
   "cell_type": "code",
   "execution_count": 3,
   "metadata": {},
   "outputs": [],
   "source": [
    "params = {\"hidden1\": 10, \"hidden2\": 10,  \n",
    "              \"hidden3\": 66, \n",
    "              \"droput1\":0.45,  \"droput2\": 0.3,\n",
    "              \"optimizer\": 'rmsprop', \"epochs\": 3}"
   ]
  },
  {
   "cell_type": "markdown",
   "metadata": {},
   "source": [
    "## Simulate the asset price"
   ]
  },
  {
   "cell_type": "code",
   "execution_count": 4,
   "metadata": {},
   "outputs": [
    {
     "name": "stdout",
     "output_type": "stream",
     "text": [
      "CPU times: user 425 ms, sys: 23.1 ms, total: 448 ms\n",
      "Wall time: 452 ms\n"
     ]
    }
   ],
   "source": [
    "%%time\n",
    "data = np.random.normal(0, 1, (num_samples, N))*np.sqrt(dt)\n",
    "timesteps = np.linspace(0, T-dt, N)"
   ]
  },
  {
   "cell_type": "code",
   "execution_count": 5,
   "metadata": {
    "scrolled": true
   },
   "outputs": [],
   "source": [
    "data.shape\n",
    "data = np.sqrt(sigma) * np.cumsum(data, axis=1)"
   ]
  },
  {
   "cell_type": "code",
   "execution_count": 6,
   "metadata": {},
   "outputs": [
    {
     "data": {
      "text/plain": [
       "(100000, 100)"
      ]
     },
     "execution_count": 6,
     "metadata": {},
     "output_type": "execute_result"
    }
   ],
   "source": [
    "timeline = np.zeros_like(data)\n",
    "timeline[:] = timesteps\n",
    "timeline.shape"
   ]
  },
  {
   "cell_type": "markdown",
   "metadata": {},
   "source": [
    "## Build the neural network"
   ]
  },
  {
   "cell_type": "code",
   "execution_count": 7,
   "metadata": {
    "scrolled": true
   },
   "outputs": [
    {
     "name": "stderr",
     "output_type": "stream",
     "text": [
      "/home/lukasz/.local/lib/python3.6/site-packages/tensorflow/python/util/tf_inspect.py:75: DeprecationWarning: inspect.getargspec() is deprecated, use inspect.signature() or inspect.getfullargspec()\n",
      "  return _inspect.getargspec(target)\n",
      "/home/lukasz/.local/lib/python3.6/site-packages/tensorflow/python/util/tf_inspect.py:75: DeprecationWarning: inspect.getargspec() is deprecated, use inspect.signature() or inspect.getfullargspec()\n",
      "  return _inspect.getargspec(target)\n",
      "/home/lukasz/.local/lib/python3.6/site-packages/tensorflow/python/util/tf_inspect.py:75: DeprecationWarning: inspect.getargspec() is deprecated, use inspect.signature() or inspect.getfullargspec()\n",
      "  return _inspect.getargspec(target)\n",
      "/home/lukasz/.local/lib/python3.6/site-packages/tensorflow/python/util/tf_inspect.py:75: DeprecationWarning: inspect.getargspec() is deprecated, use inspect.signature() or inspect.getfullargspec()\n",
      "  return _inspect.getargspec(target)\n",
      "/home/lukasz/.local/lib/python3.6/site-packages/tensorflow/python/util/tf_inspect.py:75: DeprecationWarning: inspect.getargspec() is deprecated, use inspect.signature() or inspect.getfullargspec()\n",
      "  return _inspect.getargspec(target)\n",
      "/home/lukasz/.local/lib/python3.6/site-packages/tensorflow/python/util/tf_inspect.py:75: DeprecationWarning: inspect.getargspec() is deprecated, use inspect.signature() or inspect.getfullargspec()\n",
      "  return _inspect.getargspec(target)\n"
     ]
    }
   ],
   "source": [
    "import tensorflow_probability as tfp\n",
    "from tensorflow_probability import distributions as tfd\n",
    "from keras import optimizers\n",
    "\n",
    "def tf_power(alpha):\n",
    "    def f(x):\n",
    "        return tf.pow(x, alpha)\n",
    "    return f\n",
    "    \n",
    "batch_size = 32\n",
    "times = Input(shape=(N,))\n",
    "price = Input(shape=(N,))\n",
    "\n",
    "hidden1 = Dense(params[\"hidden1\"], activation='relu')(times) \n",
    "                    #kernel_initializer='uniform',\n",
    "                    #kernel_regularizer=regularizers.l2(0))(x)\n",
    "    \n",
    "Dropout(params[\"droput1\"])(hidden1)\n",
    "    \n",
    "hidden2 = Dense(params[\"hidden2\"], activation='relu')(hidden1)\n",
    "                #kernel_regularizer=regularizers.l2(0))(hidden1)\n",
    "    \n",
    "Dropout(params[\"droput2\"])(hidden2)\n",
    "    \n",
    "#hidden3 = Dense(params[\"hidden3\"], activation='relu', kernel_initializer='normal',\n",
    "                    #kernel_regularizer=regularizers.l2(0))(hidden2)\n",
    "    #hidden4 = Dense(100, activation='elu', kernel_initializer='normal')(hidden3)\n",
    "    #hidden5 = Dense(10, activation='elu', kernel_initializer='normal')(hidden4)\n",
    "\n",
    "logit = Dense(N, activation=None)(hidden2)\n",
    "\n",
    "trading_speed = Dense(N, activation='softplus')(logit)\n",
    "# vector of controls\n",
    "\n",
    "#dt_t = tf.constant(dt, dtype=tf.float32)\n",
    "#mismatch_penalty = tf.constant(mismatch_penalty)\n",
    "\n",
    "temporary_impact_function = tf_power(alpha)\n",
    "# vector of temporary price impacts\n",
    "\n",
    "price_impact = temporary_impact_function(trading_speed)\n",
    "\n",
    "assets_sold = dt * tf.reduce_sum(trading_speed, axis=1)\n",
    "\n",
    "\n",
    "loss3 = mismatch_penalty * tf.square(tf.maximum(num_shares-assets_sold, 0.))\n",
    "cum_sum = tf.zeros_like(loss3)\n",
    "target = num_shares*tf.ones_like(cum_sum)\n",
    "\n",
    "###############################################c\n",
    "# compute the inventory penalty\n",
    "for j in range(N):\n",
    "    temp = tf.slice(trading_speed, [0, 0], [-1, j+1])\n",
    "    addition = tf.square(tf.subtract(target, dt*tf.reduce_sum(temp, axis=1)))\n",
    "    cum_sum = tf.add(cum_sum, addition)\n",
    "\n",
    "inventory_penalty = inventory_param * dt * cum_sum\n",
    "################################################        \n",
    "        \n",
    "loss1 = - tf.reduce_sum(tf.multiply(tf.subtract(price,price_impact), trading_speed), axis=1)\n",
    "loss1 = tf.multiply(loss1, dt)\n",
    "\n",
    "loss = tf.add_n([loss1, inventory_penalty, loss3])\n",
    "def custom_loss(y_true, y_pred):\n",
    "    return loss\n",
    "#import keras.losses\n",
    "#keras.losses.custom_loss = custom_loss\n",
    "\n",
    "\n",
    "\n",
    "rmsprop = optimizers.RMSprop(lr=0.0001)\n",
    "model = Model(inputs=[price, times], outputs=trading_speed)\n",
    "model.compile(optimizer='rmsprop',loss=custom_loss, metrics=[])\n"
   ]
  },
  {
   "cell_type": "code",
   "execution_count": 8,
   "metadata": {},
   "outputs": [
    {
     "name": "stdout",
     "output_type": "stream",
     "text": [
      "_________________________________________________________________\n",
      "Layer (type)                 Output Shape              Param #   \n",
      "=================================================================\n",
      "input_1 (InputLayer)         (None, 100)               0         \n",
      "_________________________________________________________________\n",
      "dense (Dense)                (None, 10)                1010      \n",
      "_________________________________________________________________\n",
      "dense_1 (Dense)              (None, 10)                110       \n",
      "_________________________________________________________________\n",
      "dense_2 (Dense)              (None, 100)               1100      \n",
      "_________________________________________________________________\n",
      "dense_3 (Dense)              (None, 100)               10100     \n",
      "=================================================================\n",
      "Total params: 12,320\n",
      "Trainable params: 12,320\n",
      "Non-trainable params: 0\n",
      "_________________________________________________________________\n"
     ]
    }
   ],
   "source": [
    "model.summary()"
   ]
  },
  {
   "cell_type": "code",
   "execution_count": 9,
   "metadata": {
    "scrolled": true
   },
   "outputs": [
    {
     "name": "stderr",
     "output_type": "stream",
     "text": [
      "/home/lukasz/.local/lib/python3.6/site-packages/tensorflow/python/util/tf_inspect.py:75: DeprecationWarning: inspect.getargspec() is deprecated, use inspect.signature() or inspect.getfullargspec()\n",
      "  return _inspect.getargspec(target)\n",
      "/home/lukasz/.local/lib/python3.6/site-packages/tensorflow/python/util/tf_inspect.py:75: DeprecationWarning: inspect.getargspec() is deprecated, use inspect.signature() or inspect.getfullargspec()\n",
      "  return _inspect.getargspec(target)\n"
     ]
    },
    {
     "name": "stdout",
     "output_type": "stream",
     "text": [
      "Epoch 1/3\n",
      "100000/100000 [==============================] - 50s 497us/step - loss: 2.6156\n",
      "Epoch 2/3\n",
      "100000/100000 [==============================] - 50s 495us/step - loss: 2.4948\n",
      "Epoch 3/3\n",
      "100000/100000 [==============================] - 50s 496us/step - loss: 2.4914\n",
      "dict_keys(['loss'])\n"
     ]
    },
    {
     "data": {
      "image/png": "[encoded data removed]",
      "text/plain": [
       "<Figure size 432x288 with 1 Axes>"
      ]
     },
     "metadata": {
      "needs_background": "light"
     },
     "output_type": "display_data"
    }
   ],
   "source": [
    "history = model.fit([data, timeline],timeline,\n",
    "                    epochs=params[\"epochs\"],\n",
    "                    batch_size=32)\n",
    "\n",
    "history_dict = history.history\n",
    "print(history_dict.keys())\n",
    "\n",
    "loss_values = history_dict['loss']\n",
    "epochs = range(1, params[\"epochs\"]+1)\n",
    "\n",
    "plt.plot(epochs, loss_values, 'bo', label=\"training_loss\")\n",
    "plt.xlabel('Epochs')\n",
    "plt.ylabel('Loss')\n",
    "plt.show()"
   ]
  },
  {
   "cell_type": "code",
   "execution_count": 10,
   "metadata": {},
   "outputs": [],
   "source": [
    "dummy_price = np.zeros_like(data[0]).reshape(1,-1)\n",
    "def f_predict(times_array):\n",
    "    times_array = times_array.reshape(1,-1)\n",
    "    result = model.predict([dummy_price,times_array])\n",
    "    \n",
    "    return result"
   ]
  },
  {
   "cell_type": "code",
   "execution_count": 11,
   "metadata": {},
   "outputs": [
    {
     "name": "stderr",
     "output_type": "stream",
     "text": [
      "/home/lukasz/.local/lib/python3.6/site-packages/tensorflow/python/util/tf_inspect.py:75: DeprecationWarning: inspect.getargspec() is deprecated, use inspect.signature() or inspect.getfullargspec()\n",
      "  return _inspect.getargspec(target)\n",
      "/home/lukasz/.local/lib/python3.6/site-packages/tensorflow/python/util/tf_inspect.py:75: DeprecationWarning: inspect.getargspec() is deprecated, use inspect.signature() or inspect.getfullargspec()\n",
      "  return _inspect.getargspec(target)\n"
     ]
    },
    {
     "data": {
      "text/plain": [
       "[<matplotlib.lines.Line2D at 0x7fd6f94f85c0>]"
      ]
     },
     "execution_count": 11,
     "metadata": {},
     "output_type": "execute_result"
    },
    {
     "data": {
      "image/png": "[encoded data removed]",
      "text/plain": [
       "<Figure size 432x288 with 1 Axes>"
      ]
     },
     "metadata": {
      "needs_background": "light"
     },
     "output_type": "display_data"
    }
   ],
   "source": [
    "import matplotlib.pyplot as plt\n",
    "%matplotlib inline\n",
    "plt.plot(timesteps, f_predict(timesteps)[0])"
   ]
  },
  {
   "cell_type": "markdown",
   "metadata": {},
   "source": [
    "The picture looks really smooth, as it should."
   ]
  },
  {
   "cell_type": "code",
   "execution_count": 12,
   "metadata": {},
   "outputs": [],
   "source": [
    "K.clear_session()"
   ]
  },
  {
   "cell_type": "code",
   "execution_count": 13,
   "metadata": {},
   "outputs": [],
   "source": [
    "result_speed = f_predict(timesteps)"
   ]
  },
  {
   "cell_type": "code",
   "execution_count": 14,
   "metadata": {},
   "outputs": [
    {
     "data": {
      "text/plain": [
       "array([1.0114079], dtype=float32)"
      ]
     },
     "execution_count": 14,
     "metadata": {},
     "output_type": "execute_result"
    }
   ],
   "source": [
    "result_speed.mean(axis=1)"
   ]
  },
  {
   "cell_type": "code",
   "execution_count": 15,
   "metadata": {},
   "outputs": [
    {
     "data": {
      "text/plain": [
       "array([[7.3807974 , 6.659346  , 6.0526333 , 5.477924  , 4.9831605 ,\n",
       "        4.531805  , 4.168903  , 3.818184  , 3.482501  , 3.1964939 ,\n",
       "        2.957977  , 2.7128022 , 2.5181723 , 2.3338149 , 2.1600642 ,\n",
       "        1.9959865 , 1.8629822 , 1.7173469 , 1.6267382 , 1.5007236 ,\n",
       "        1.401034  , 1.3175032 , 1.2357498 , 1.1422195 , 1.094808  ,\n",
       "        1.0312135 , 0.95667833, 0.89886045, 0.8625133 , 0.80731225,\n",
       "        0.76498103, 0.72373897, 0.689432  , 0.6435756 , 0.6226114 ,\n",
       "        0.591568  , 0.55613434, 0.5273862 , 0.5026095 , 0.4894871 ,\n",
       "        0.4606479 , 0.44265425, 0.42417055, 0.403226  , 0.3877267 ,\n",
       "        0.36984533, 0.3541533 , 0.3465642 , 0.32977584, 0.31060836,\n",
       "        0.3076261 , 0.3000949 , 0.28411746, 0.27870002, 0.25756076,\n",
       "        0.25510544, 0.24546807, 0.24067889, 0.23308335, 0.23128578,\n",
       "        0.21991532, 0.21352908, 0.20939699, 0.20979835, 0.19992524,\n",
       "        0.19455148, 0.19280732, 0.18864529, 0.1826886 , 0.1823525 ,\n",
       "        0.17354596, 0.17365138, 0.16809528, 0.16385105, 0.16673282,\n",
       "        0.1622495 , 0.16258909, 0.15954402, 0.15763858, 0.15292364,\n",
       "        0.1556993 , 0.15259498, 0.15150335, 0.15010516, 0.15070218,\n",
       "        0.15044951, 0.14715926, 0.14823867, 0.14757498, 0.15295403,\n",
       "        0.14968649, 0.1515806 , 0.15262978, 0.15325515, 0.15095869,\n",
       "        0.15484135, 0.14963445, 0.15736341, 0.15860869, 0.15994395]],\n",
       "      dtype=float32)"
      ]
     },
     "execution_count": 15,
     "metadata": {},
     "output_type": "execute_result"
    }
   ],
   "source": [
    "result_speed"
   ]
  },
  {
   "cell_type": "code",
   "execution_count": 16,
   "metadata": {},
   "outputs": [
    {
     "data": {
      "text/plain": [
       "array([ 0.00498255,  0.00868984,  0.06544259, ..., -0.00926191,\n",
       "        0.06041896, -0.01838103])"
      ]
     },
     "execution_count": 16,
     "metadata": {},
     "output_type": "execute_result"
    }
   ],
   "source": [
    "data[:,0]"
   ]
  },
  {
   "cell_type": "code",
   "execution_count": null,
   "metadata": {},
   "outputs": [],
   "source": []
  }
 ],
 "metadata": {
  "kernelspec": {
   "display_name": "Python 3",
   "language": "python",
   "name": "python3"
  },
  "language_info": {
   "codemirror_mode": {
    "name": "ipython",
    "version": 3
   },
   "file_extension": ".py",
   "mimetype": "text/x-python",
   "name": "python",
   "nbconvert_exporter": "python",
   "pygments_lexer": "ipython3",
   "version": "3.6.6"
  }
 },
 "nbformat": 4,
 "nbformat_minor": 2
}
